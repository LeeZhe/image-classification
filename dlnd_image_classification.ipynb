{
 "cells": [
  {
   "cell_type": "markdown",
   "metadata": {
    "collapsed": true
   },
   "source": [
    "# 图像分类\n",
    "\n",
    "在此项目中，你将对 [CIFAR-10 数据集](https://www.cs.toronto.edu/~kriz/cifar.html) 中的图片进行分类。该数据集包含飞机、猫狗和其他物体。你需要预处理这些图片，然后用所有样本训练一个卷积神经网络。图片需要标准化（normalized），标签需要采用 one-hot 编码。你需要应用所学的知识构建卷积的、最大池化（max pooling）、丢弃（dropout）和完全连接（fully connected）的层。最后，你需要在样本图片上看到神经网络的预测结果。\n",
    "\n",
    "\n",
    "## 获取数据\n",
    "\n",
    "请运行以下单元，以下载 [CIFAR-10 数据集（Python版）](https://www.cs.toronto.edu/~kriz/cifar-10-python.tar.gz)。\n"
   ]
  },
  {
   "cell_type": "markdown",
   "metadata": {},
   "source": [
    "## 探索数据\n",
    "\n",
    "该数据集分成了几部分／批次（batches），以免你的机器在计算时内存不足。CIFAR-10 数据集包含 5 个部分，名称分别为 `data_batch_1`、`data_batch_2`，以此类推。每个部分都包含以下某个类别的标签和图片：\n",
    "\n",
    "* 飞机\n",
    "* 汽车\n",
    "* 鸟类\n",
    "* 猫\n",
    "* 鹿\n",
    "* 狗\n",
    "* 青蛙\n",
    "* 马\n",
    "* 船只\n",
    "* 卡车\n",
    "\n",
    "了解数据集也是对数据进行预测的必经步骤。你可以通过更改 `batch_id` 和 `sample_id` 探索下面的代码单元。`batch_id` 是数据集一个部分的 ID（1 到 5）。`sample_id` 是该部分中图片和标签对（label pair）的 ID。\n",
    "\n",
    "问问你自己：“可能的标签有哪些？”、“图片数据的值范围是多少？”、“标签是按顺序排列，还是随机排列的？”。思考类似的问题，有助于你预处理数据，并使预测结果更准确。\n"
   ]
  },
  {
   "cell_type": "code",
   "execution_count": 2,
   "metadata": {},
   "outputs": [
    {
     "name": "stdout",
     "output_type": "stream",
     "text": [
      "All files found!\n"
     ]
    }
   ],
   "source": [
    "\n",
    "\"\"\"\n",
    "DON'T MODIFY ANYTHING IN THIS CELL THAT IS BELOW THIS LINE\n",
    "\"\"\"\n",
    "from urllib.request import urlretrieve\n",
    "from os.path import isfile, isdir\n",
    "from tqdm import tqdm\n",
    "import problem_unittests as tests\n",
    "import tarfile\n",
    "\n",
    "cifar10_dataset_folder_path = 'cifar-10-batches-py'\n",
    "\n",
    "# Use Floyd's cifar-10 dataset if present\n",
    "floyd_cifar10_location = '/input/cifar-10/python.tar.gz'\n",
    "if isfile(floyd_cifar10_location):\n",
    "    tar_gz_path = floyd_cifar10_location\n",
    "else:\n",
    "    tar_gz_path = 'cifar-10-python.tar.gz'\n",
    "\n",
    "class DLProgress(tqdm):\n",
    "    last_block = 0\n",
    "\n",
    "    def hook(self, block_num=1, block_size=1, total_size=None):\n",
    "        self.total = total_size\n",
    "        self.update((block_num - self.last_block) * block_size)\n",
    "        self.last_block = block_num\n",
    "\n",
    "if not isfile(tar_gz_path):\n",
    "    with DLProgress(unit='B', unit_scale=True, miniters=1, desc='CIFAR-10 Dataset') as pbar:\n",
    "        urlretrieve(\n",
    "            'https://www.cs.toronto.edu/~kriz/cifar-10-python.tar.gz',\n",
    "            tar_gz_path,\n",
    "            pbar.hook)\n",
    "\n",
    "if not isdir(cifar10_dataset_folder_path):\n",
    "    with tarfile.open(tar_gz_path) as tar:\n",
    "        tar.extractall()\n",
    "        tar.close()\n",
    "\n",
    "\n",
    "tests.test_folder_path(cifar10_dataset_folder_path)"
   ]
  },
  {
   "cell_type": "code",
   "execution_count": 3,
   "metadata": {},
   "outputs": [
    {
     "name": "stderr",
     "output_type": "stream",
     "text": [
      "/home/ubuntu/anaconda3/lib/python3.6/site-packages/matplotlib/__init__.py:1067: UserWarning: Duplicate key in file \"/home/ubuntu/.config/matplotlib/matplotlibrc\", line #2\n",
      "  (fname, cnt))\n",
      "/home/ubuntu/anaconda3/lib/python3.6/site-packages/matplotlib/__init__.py:1067: UserWarning: Duplicate key in file \"/home/ubuntu/.config/matplotlib/matplotlibrc\", line #3\n",
      "  (fname, cnt))\n"
     ]
    },
    {
     "name": "stdout",
     "output_type": "stream",
     "text": [
      "\n",
      "Stats of batch 1:\n",
      "Samples: 10000\n",
      "Label Counts: {0: 1005, 1: 974, 2: 1032, 3: 1016, 4: 999, 5: 937, 6: 1030, 7: 1001, 8: 1025, 9: 981}\n",
      "First 20 Labels: [6, 9, 9, 4, 1, 1, 2, 7, 8, 3, 4, 7, 7, 2, 9, 9, 9, 3, 2, 6]\n",
      "\n",
      "Example of Image 889:\n",
      "Image - Min Value: 6 Max Value: 255\n",
      "Image - Shape: (32, 32, 3)\n",
      "Label - Label Id: 2 Name: bird\n"
     ]
    },
    {
     "data": {
      "image/png": "[encoded data removed]",
      "text/plain": [
       "<Figure size 432x288 with 1 Axes>"
      ]
     },
     "metadata": {
      "image/png": {
       "height": 250,
       "width": 253
      }
     },
     "output_type": "display_data"
    }
   ],
   "source": [
    "%matplotlib inline\n",
    "%config InlineBackend.figure_format = 'retina'\n",
    "\n",
    "import helper\n",
    "import numpy as np\n",
    "\n",
    "# Explore the dataset\n",
    "batch_id = 1\n",
    "sample_id = 889\n",
    "helper.display_stats(cifar10_dataset_folder_path, batch_id, sample_id)"
   ]
  },
  {
   "cell_type": "markdown",
   "metadata": {},
   "source": [
    "## 实现预处理函数\n",
    "\n",
    "### 标准化\n",
    "\n",
    "在下面的单元中，实现 `normalize` 函数，传入图片数据 `x`，并返回标准化 Numpy 数组。值应该在 0 到 1 的范围内（含 0 和 1）。返回对象应该和 `x` 的形状一样。\n"
   ]
  },
  {
   "cell_type": "code",
   "execution_count": 4,
   "metadata": {},
   "outputs": [
    {
     "name": "stdout",
     "output_type": "stream",
     "text": [
      "Tests Passed\n"
     ]
    }
   ],
   "source": [
    "def normalize(x):\n",
    "    \"\"\"\n",
    "    Normalize a list of sample image data in the range of 0 to 1\n",
    "    : x: List of image data.  The image shape is (32, 32, 3)\n",
    "    : return: Numpy array of normalize data\n",
    "    \"\"\"\n",
    "    # TODO: Implement Function\n",
    "    a = 0\n",
    "    b = 1\n",
    "    grayscale_min = np.min(x)\n",
    "    grayscale_max = np.max(x)\n",
    "    return a + ( ( (x - grayscale_min)*(b - a) )/( grayscale_max - grayscale_min ) )\n",
    "\n",
    "\n",
    "\"\"\"\n",
    "DON'T MODIFY ANYTHING IN THIS CELL THAT IS BELOW THIS LINE\n",
    "\"\"\"\n",
    "tests.test_normalize(normalize)"
   ]
  },
  {
   "cell_type": "markdown",
   "metadata": {},
   "source": [
    "### One-hot 编码\n",
    "\n",
    "和之前的代码单元一样，你将为预处理实现一个函数。这次，你将实现 `one_hot_encode` 函数。输入，也就是 `x`，是一个标签列表。实现该函数，以返回为 one_hot 编码的 Numpy 数组的标签列表。标签的可能值为 0 到 9。每次调用 `one_hot_encode` 时，对于每个值，one_hot 编码函数应该返回相同的编码。确保将编码映射保存到该函数外面。\n",
    "\n",
    "提示：不要重复发明轮子。\n"
   ]
  },
  {
   "cell_type": "code",
   "execution_count": 5,
   "metadata": {},
   "outputs": [
    {
     "name": "stdout",
     "output_type": "stream",
     "text": [
      "Tests Passed\n"
     ]
    }
   ],
   "source": [
    "from sklearn import preprocessing\n",
    "import numpy as np\n",
    "from sklearn.preprocessing import LabelBinarizer\n",
    "def one_hot_encode(x):\n",
    "    \"\"\"\n",
    "    One hot encode a list of sample labels. Return a one-hot encoded vector for each label.\n",
    "    : x: List of sample Labels\n",
    "    : return: Numpy array of one-hot encoded labels\n",
    "    \"\"\"\n",
    "\n",
    "    encoder = LabelBinarizer(neg_label=0, pos_label=1, sparse_output=False)\n",
    "    encoder.fit(np.array([[0,0,0,0,0,0,0,0,0,0],[0,0,0,0,0,0,0,0,0,0]]))\n",
    "    y = encoder.transform(x)\n",
    "    y = y.astype(np.float32)\n",
    "    return y\n",
    "\n",
    "\n",
    "\"\"\"\n",
    "DON'T MODIFY ANYTHING IN THIS CELL THAT IS BELOW THIS LINE\n",
    "\"\"\"\n",
    "tests.test_one_hot_encode(one_hot_encode)"
   ]
  },
  {
   "cell_type": "markdown",
   "metadata": {},
   "source": [
    "### 随机化数据\n",
    "\n",
    "之前探索数据时，你已经了解到，样本的顺序是随机的。再随机化一次也不会有什么关系，但是对于这个数据集没有必要。\n"
   ]
  },
  {
   "cell_type": "markdown",
   "metadata": {},
   "source": [
    "## 预处理所有数据并保存\n",
    "\n",
    "运行下方的代码单元，将预处理所有 CIFAR-10 数据，并保存到文件中。下面的代码还使用了 10% 的训练数据，用来验证。\n"
   ]
  },
  {
   "cell_type": "code",
   "execution_count": 6,
   "metadata": {},
   "outputs": [],
   "source": [
    "\"\"\"\n",
    "DON'T MODIFY ANYTHING IN THIS CELL\n",
    "\"\"\"\n",
    "# Preprocess Training, Validation, and Testing Data\n",
    "helper.preprocess_and_save_data(cifar10_dataset_folder_path, normalize, one_hot_encode)"
   ]
  },
  {
   "cell_type": "markdown",
   "metadata": {},
   "source": [
    "# 检查点\n",
    "\n",
    "这是你的第一个检查点。如果你什么时候决定再回到该记事本，或需要重新启动该记事本，你可以从这里开始。预处理的数据已保存到本地。\n"
   ]
  },
  {
   "cell_type": "code",
   "execution_count": 7,
   "metadata": {},
   "outputs": [],
   "source": [
    "\"\"\"\n",
    "DON'T MODIFY ANYTHING IN THIS CELL\n",
    "\"\"\"\n",
    "import pickle\n",
    "import problem_unittests as tests\n",
    "import helper\n",
    "\n",
    "# Load the Preprocessed Validation data\n",
    "valid_features, valid_labels = pickle.load(open('preprocess_validation.p', mode='rb'))"
   ]
  },
  {
   "cell_type": "markdown",
   "metadata": {},
   "source": [
    "## 构建网络\n",
    "\n",
    "对于该神经网络，你需要将每层都构建为一个函数。你看到的大部分代码都位于函数外面。要更全面地测试你的代码，我们需要你将每层放入一个函数中。这样使我们能够提供更好的反馈，并使用我们的统一测试检测简单的错误，然后再提交项目。\n",
    "\n",
    ">**注意**：如果你觉得每周很难抽出足够的时间学习这门课程，我们为此项目提供了一个小捷径。对于接下来的几个问题，你可以使用 [TensorFlow Layers](https://www.tensorflow.org/api_docs/python/tf/layers) 或 [TensorFlow Layers (contrib)](https://www.tensorflow.org/api_guides/python/contrib.layers) 程序包中的类来构建每个层级，但是“卷积和最大池化层级”部分的层级除外。TF Layers 和 Keras 及 TFLearn 层级类似，因此很容易学会。\n",
    "\n",
    ">但是，如果你想充分利用这门课程，请尝试自己解决所有问题，不使用 TF Layers 程序包中的任何类。你依然可以使用其他程序包中的类，这些类和你在 TF Layers 中的类名称是一样的！例如，你可以使用 TF Neural Network 版本的 `conv2d` 类 [tf.nn.conv2d](https://www.tensorflow.org/api_docs/python/tf/nn/conv2d)，而不是 TF Layers 版本的 `conv2d` 类 [tf.layers.conv2d](https://www.tensorflow.org/api_docs/python/tf/layers/conv2d)。\n",
    "\n",
    "我们开始吧！\n",
    "\n",
    "\n",
    "### 输入\n",
    "\n",
    "神经网络需要读取图片数据、one-hot 编码标签和丢弃保留概率（dropout keep probability）。请实现以下函数：\n",
    "\n",
    "* 实现 `neural_net_image_input`\n",
    " * 返回 [TF Placeholder](https://www.tensorflow.org/api_docs/python/tf/placeholder)\n",
    " * 使用 `image_shape` 设置形状，部分大小设为 `None`\n",
    " * 使用 [TF Placeholder](https://www.tensorflow.org/api_docs/python/tf/placeholder) 中的 TensorFlow `name` 参数对 TensorFlow 占位符 \"x\" 命名\n",
    "* 实现 `neural_net_label_input`\n",
    " * 返回 [TF Placeholder](https://www.tensorflow.org/api_docs/python/tf/placeholder)\n",
    " * 使用 `n_classes` 设置形状，部分大小设为 `None`\n",
    " * 使用 [TF Placeholder](https://www.tensorflow.org/api_docs/python/tf/placeholder) 中的 TensorFlow `name` 参数对 TensorFlow 占位符 \"y\" 命名\n",
    "* 实现 `neural_net_keep_prob_input`\n",
    " * 返回 [TF Placeholder](https://www.tensorflow.org/api_docs/python/tf/placeholder)，用于丢弃保留概率\n",
    " * 使用 [TF Placeholder](https://www.tensorflow.org/api_docs/python/tf/placeholder) 中的 TensorFlow `name` 参数对 TensorFlow 占位符 \"keep_prob\" 命名\n",
    "\n",
    "这些名称将在项目结束时，用于加载保存的模型。\n",
    "\n",
    "注意：TensorFlow 中的 `None` 表示形状可以是动态大小。"
   ]
  },
  {
   "cell_type": "code",
   "execution_count": 8,
   "metadata": {},
   "outputs": [
    {
     "name": "stdout",
     "output_type": "stream",
     "text": [
      "Image Input Tests Passed.\n",
      "Label Input Tests Passed.\n",
      "Keep Prob Tests Passed.\n"
     ]
    }
   ],
   "source": [
    "import tensorflow as tf\n",
    "\n",
    "def neural_net_image_input(image_shape):\n",
    "    \"\"\"\n",
    "    Return a Tensor for a batch of image input\n",
    "    : image_shape: Shape of the images\n",
    "    : return: Tensor for image input.\n",
    "    \"\"\"\n",
    "    # TODO: Implement Function\n",
    "    return tf.placeholder(tf.float32, [None, image_shape[0], image_shape[1], image_shape[2]], name= 'x')\n",
    "\n",
    "\n",
    "def neural_net_label_input(n_classes):\n",
    "    \"\"\"\n",
    "    Return a Tensor for a batch of label input\n",
    "    : n_classes: Number of classes\n",
    "    : return: Tensor for label input.\n",
    "    \"\"\"\n",
    "    # TODO: Implement Function\n",
    "    return tf.placeholder(tf.float32, [None, n_classes], name= 'y')\n",
    "\n",
    "\n",
    "def neural_net_keep_prob_input():\n",
    "    \"\"\"\n",
    "    Return a Tensor for keep probability\n",
    "    : return: Tensor for keep probability.\n",
    "    \"\"\"\n",
    "    # TODO: Implement Function\n",
    "    return tf.placeholder(tf.float32, name= 'keep_prob')\n",
    "\n",
    "\n",
    "\"\"\"\n",
    "DON'T MODIFY ANYTHING IN THIS CELL THAT IS BELOW THIS LINE\n",
    "\"\"\"\n",
    "tf.reset_default_graph()\n",
    "tests.test_nn_image_inputs(neural_net_image_input)\n",
    "tests.test_nn_label_inputs(neural_net_label_input)\n",
    "tests.test_nn_keep_prob_inputs(neural_net_keep_prob_input)"
   ]
  },
  {
   "cell_type": "markdown",
   "metadata": {},
   "source": [
    "### 卷积和最大池化层\n",
    "\n",
    "卷积层级适合处理图片。对于此代码单元，你应该实现函数 `conv2d_maxpool` 以便应用卷积然后进行最大池化：\n",
    "\n",
    "* 使用 `conv_ksize`、`conv_num_outputs` 和 `x_tensor` 的形状创建权重（weight）和偏置（bias）。\n",
    "* 使用权重和 `conv_strides` 对 `x_tensor` 应用卷积。\n",
    " * 建议使用我们建议的间距（padding），当然也可以使用任何其他间距。\n",
    "* 添加偏置\n",
    "* 向卷积中添加非线性激活（nonlinear activation）\n",
    "* 使用 `pool_ksize` 和 `pool_strides` 应用最大池化\n",
    " * 建议使用我们建议的间距（padding），当然也可以使用任何其他间距。\n",
    "\n",
    "**注意**：对于**此层**，**请勿使用** [TensorFlow Layers](https://www.tensorflow.org/api_docs/python/tf/layers) 或 [TensorFlow Layers (contrib)](https://www.tensorflow.org/api_guides/python/contrib.layers)，但是仍然可以使用 TensorFlow 的 [Neural Network](https://www.tensorflow.org/api_docs/python/tf/nn) 包。对于所有**其他层**，你依然可以使用快捷方法。\n"
   ]
  },
  {
   "cell_type": "code",
   "execution_count": 9,
   "metadata": {},
   "outputs": [
    {
     "name": "stdout",
     "output_type": "stream",
     "text": [
      "Tests Passed\n"
     ]
    }
   ],
   "source": [
    "def conv2d_maxpool(x_tensor, conv_num_outputs, conv_ksize, conv_strides, pool_ksize, pool_strides):\n",
    "    \"\"\"\n",
    "    Apply convolution then max pooling to x_tensor\n",
    "    :param x_tensor: TensorFlow Tensor\n",
    "    :param conv_num_outputs: Number of outputs for the convolutional layer\n",
    "    :param conv_ksize: kernal size 2-D Tuple for the convolutional layer\n",
    "    :param conv_strides: Stride 2-D Tuple for convolution\n",
    "    :param pool_ksize: kernal size 2-D Tuple for pool\n",
    "    :param pool_strides: Stride 2-D Tuple for pool\n",
    "    : return: A tensor that represents convolution and max pooling of x_tensor\n",
    "    \"\"\"\n",
    "    # TODO: Implement Function\n",
    "    \n",
    "    x_depth = x_tensor.get_shape().as_list()[-1]\n",
    "    weight= tf.Variable(tf.truncated_normal([conv_ksize[0], conv_ksize[1], x_depth, conv_num_outputs],stddev=0.1))\n",
    "\n",
    "    bias = tf.Variable(tf.zeros(conv_num_outputs))\n",
    "    convolution = tf.nn.conv2d(x_tensor,weight, [1, conv_strides[0], conv_strides[1], 1], 'SAME')\n",
    "    convolution = tf.nn.bias_add(convolution, bias)\n",
    "    convolution = tf.nn.relu(convolution)\n",
    "    convolution =  tf.nn.max_pool(convolution,[1, pool_ksize[0], pool_ksize[1], 1],[1, pool_strides[0], pool_strides[1], 1],'SAME')\n",
    "    \n",
    "    return convolution \n",
    "\n",
    "\n",
    "\"\"\"\n",
    "DON'T MODIFY ANYTHING IN THIS CELL THAT IS BELOW THIS LINE\n",
    "\"\"\"\n",
    "tests.test_con_pool(conv2d_maxpool)"
   ]
  },
  {
   "cell_type": "markdown",
   "metadata": {},
   "source": [
    "### 扁平化层\n",
    "\n",
    "实现 `flatten` 函数，将 `x_tensor` 的维度从四维张量（4-D tensor）变成二维张量。输出应该是形状（*部分大小（Batch Size）*，*扁平化图片大小（Flattened Image Size）*）。快捷方法：对于此层，你可以使用 [TensorFlow Layers](https://www.tensorflow.org/api_docs/python/tf/layers) 或 [TensorFlow Layers (contrib)](https://www.tensorflow.org/api_guides/python/contrib.layers) 包中的类。如果你想要更大挑战，可以仅使用其他 TensorFlow 程序包。\n"
   ]
  },
  {
   "cell_type": "code",
   "execution_count": 10,
   "metadata": {},
   "outputs": [
    {
     "name": "stdout",
     "output_type": "stream",
     "text": [
      "Tests Passed\n"
     ]
    }
   ],
   "source": [
    "def flatten(x_tensor):\n",
    "    \"\"\"\n",
    "    Flatten x_tensor to (Batch Size, Flattened Image Size)\n",
    "    : x_tensor: A tensor of size (Batch Size, ...), where ... are the image dimensions.\n",
    "    : return: A tensor of size (Batch Size, Flattened Image Size).\n",
    "    \"\"\"\n",
    "    # TODO: Implement Function\n",
    "    \n",
    "    \n",
    "    batch_size, *image_size = x_tensor.get_shape().as_list()\n",
    "    image_size = image_size[0] * image_size[1] * image_size[2]\n",
    "    return tf.reshape(x_tensor, [-1, image_size])\n",
    "\n",
    "\n",
    "\"\"\"\n",
    "DON'T MODIFY ANYTHING IN THIS CELL THAT IS BELOW THIS LINE\n",
    "\"\"\"\n",
    "tests.test_flatten(flatten)"
   ]
  },
  {
   "cell_type": "markdown",
   "metadata": {},
   "source": [
    "### 全连接层\n",
    "\n",
    "实现 `fully_conn` 函数，以向 `x_tensor` 应用全连接层，形状为（*部分大小（Batch Size）*，*num_outputs*）。快捷方法：对于此层，你可以使用 [TensorFlow Layers](https://www.tensorflow.org/api_docs/python/tf/layers) 或 [TensorFlow Layers (contrib)](https://www.tensorflow.org/api_guides/python/contrib.layers) 包中的类。如果你想要更大挑战，可以仅使用其他 TensorFlow 程序包。"
   ]
  },
  {
   "cell_type": "code",
   "execution_count": 11,
   "metadata": {},
   "outputs": [
    {
     "name": "stdout",
     "output_type": "stream",
     "text": [
      "Tests Passed\n"
     ]
    }
   ],
   "source": [
    "def fully_conn(x_tensor, num_outputs):\n",
    "    \"\"\"\n",
    "    Apply a fully connected layer to x_tensor using weight and bias\n",
    "    : x_tensor: A 2-D tensor where the first dimension is batch size.\n",
    "    : num_outputs: The number of output that the new tensor should be.\n",
    "    : return: A 2-D tensor where the second dimension is num_outputs.\n",
    "    \"\"\"\n",
    "    # TODO: Implement Function\n",
    "    \n",
    "    shape = x_tensor.get_shape().as_list()\n",
    "    weight = tf.Variable(tf.truncated_normal([shape[-1], num_outputs],stddev=0.1))\n",
    "    bias = tf.Variable(tf.zeros([num_outputs]))\n",
    "    \n",
    "    return tf.nn.relu(tf.add(tf.matmul(x_tensor, weight), bias))\n",
    "\n",
    "\n",
    "\"\"\"\n",
    "DON'T MODIFY ANYTHING IN THIS CELL THAT IS BELOW THIS LINE\n",
    "\"\"\"\n",
    "tests.test_fully_conn(fully_conn)"
   ]
  },
  {
   "cell_type": "markdown",
   "metadata": {},
   "source": [
    "### 输出层\n",
    "\n",
    "实现 `output` 函数，向 x_tensor 应用完全连接的层级，形状为（*部分大小（Batch Size）*，*num_outputs*）。快捷方法：对于此层，你可以使用 [TensorFlow Layers](https://www.tensorflow.org/api_docs/python/tf/layers) 或 [TensorFlow Layers (contrib)](https://www.tensorflow.org/api_guides/python/contrib.layers) 包中的类。如果你想要更大挑战，可以仅使用其他 TensorFlow 程序包。\n",
    "\n",
    "**注意**：该层级不应应用 Activation、softmax 或交叉熵（cross entropy）。"
   ]
  },
  {
   "cell_type": "code",
   "execution_count": 12,
   "metadata": {},
   "outputs": [
    {
     "name": "stdout",
     "output_type": "stream",
     "text": [
      "Tests Passed\n"
     ]
    }
   ],
   "source": [
    "def output(x_tensor, num_outputs):\n",
    "    \"\"\"\n",
    "    Apply a output layer to x_tensor using weight and bias\n",
    "    : x_tensor: A 2-D tensor where the first dimension is batch size.\n",
    "    : num_outputs: The number of output that the new tensor should be.\n",
    "    : return: A 2-D tensor where the second dimension is num_outputs.\n",
    "    \"\"\"\n",
    "    # TODO: Implement Function\n",
    "    shape = x_tensor.get_shape().as_list()\n",
    "    weight = tf.Variable(tf.truncated_normal([shape[-1], num_outputs], stddev=0.1))\n",
    "    bias = tf.Variable(tf.zeros(num_outputs))\n",
    "    return tf.add(tf.matmul(x_tensor, weight), bias)\n",
    "\n",
    "\n",
    "\"\"\"\n",
    "DON'T MODIFY ANYTHING IN THIS CELL THAT IS BELOW THIS LINE\n",
    "\"\"\"\n",
    "tests.test_output(output)"
   ]
  },
  {
   "cell_type": "markdown",
   "metadata": {},
   "source": [
    "### 创建卷积模型\n",
    "\n",
    "实现函数 `conv_net`， 创建卷积神经网络模型。该函数传入一批图片 `x`，并输出对数（logits）。使用你在上方创建的层创建此模型：\n",
    "\n",
    "* 应用 1、2 或 3 个卷积和最大池化层（Convolution and Max Pool layers）\n",
    "* 应用一个扁平层（Flatten Layer）\n",
    "* 应用 1、2 或 3 个完全连接层（Fully Connected Layers）\n",
    "* 应用一个输出层（Output Layer）\n",
    "* 返回输出\n",
    "* 使用 `keep_prob` 向模型中的一个或多个层应用 [TensorFlow 的 Dropout](https://www.tensorflow.org/api_docs/python/tf/nn/dropout)"
   ]
  },
  {
   "cell_type": "code",
   "execution_count": 13,
   "metadata": {},
   "outputs": [
    {
     "name": "stdout",
     "output_type": "stream",
     "text": [
      "Neural Network Built!\n"
     ]
    }
   ],
   "source": [
    "def conv_net(x, keep_prob):\n",
    "    \"\"\"\n",
    "    Create a convolutional neural network model\n",
    "    : x: Placeholder tensor that holds image data.\n",
    "    : keep_prob: Placeholder tensor that hold dropout keep probability.\n",
    "    : return: Tensor that represents logits\n",
    "    \"\"\"\n",
    "    # TODO: Apply 1, 2, or 3 Convolution and Max Pool layers\n",
    "    #    Play around with different number of outputs, kernel size and stride\n",
    "    # Function Definition from Above:\n",
    "    #    conv2d_maxpool(x_tensor, conv_num_outputs, conv_ksize, conv_strides, pool_ksize, pool_strides)\n",
    "    \n",
    "    layer = conv2d_maxpool(x, 64, (4, 4), (1,1), (2,2), (2,2))\n",
    "    tf.nn.dropout(layer, keep_prob=keep_prob)\n",
    "\n",
    "    # TODO: Apply a Flatten Layer\n",
    "    # Function Definition from Above:\n",
    "    #   flatten(x_tensor)\n",
    "    layer = flatten(layer)\n",
    "\n",
    "    # TODO: Apply 1, 2, or 3 Fully Connected Layers\n",
    "    #    Play around with different number of outputs\n",
    "    # Function Definition from Above:\n",
    "    #   fully_conn(x_tensor, num_outputs)\n",
    "    layer = fully_conn(layer, 500)\n",
    "    layer = tf.nn.dropout(layer, keep_prob)\n",
    "    layer = fully_conn(layer, 100)\n",
    "    layer = tf.nn.dropout(layer, keep_prob)\n",
    "    # TODO: Apply an Output Layer\n",
    "    #    Set this to the number of classes\n",
    "    # Function Definition from Above:\n",
    "    #   output(x_tensor, num_outputs)\n",
    "    \n",
    "    \n",
    "    # TODO: return output\n",
    "    return output(layer, 10)\n",
    "\n",
    "\n",
    "\"\"\"\n",
    "DON'T MODIFY ANYTHING IN THIS CELL THAT IS BELOW THIS LINE\n",
    "\"\"\"\n",
    "\n",
    "##############################\n",
    "## Build the Neural Network ##\n",
    "##############################\n",
    "\n",
    "# Remove previous weights, bias, inputs, etc..\n",
    "tf.reset_default_graph()\n",
    "\n",
    "# Inputs\n",
    "x = neural_net_image_input((32, 32, 3))\n",
    "y = neural_net_label_input(10)\n",
    "keep_prob = neural_net_keep_prob_input()\n",
    "\n",
    "# Model\n",
    "logits = conv_net(x, keep_prob)\n",
    "\n",
    "# Name logits Tensor, so that is can be loaded from disk after training\n",
    "logits = tf.identity(logits, name='logits')\n",
    "\n",
    "# Loss and Optimizer\n",
    "cost = tf.reduce_mean(tf.nn.softmax_cross_entropy_with_logits(logits=logits, labels=y))\n",
    "optimizer = tf.train.AdamOptimizer().minimize(cost)\n",
    "\n",
    "# Accuracy\n",
    "correct_pred = tf.equal(tf.argmax(logits, 1), tf.argmax(y, 1))\n",
    "accuracy = tf.reduce_mean(tf.cast(correct_pred, tf.float32), name='accuracy')\n",
    "\n",
    "tests.test_conv_net(conv_net)"
   ]
  },
  {
   "cell_type": "markdown",
   "metadata": {},
   "source": [
    "## 训练神经网络\n",
    "\n",
    "### 单次优化\n",
    "\n",
    "实现函数 `train_neural_network` 以进行单次优化（single optimization）。该优化应该使用 `optimizer` 优化 `session`，其中 `feed_dict` 具有以下参数：\n",
    "\n",
    "* `x` 表示图片输入\n",
    "* `y` 表示标签\n",
    "* `keep_prob` 表示丢弃的保留率\n",
    "\n",
    "每个部分都会调用该函数，所以 `tf.global_variables_initializer()` 已经被调用。\n",
    "\n",
    "注意：不需要返回任何内容。该函数只是用来优化神经网络。\n"
   ]
  },
  {
   "cell_type": "code",
   "execution_count": 14,
   "metadata": {},
   "outputs": [
    {
     "name": "stdout",
     "output_type": "stream",
     "text": [
      "Tests Passed\n"
     ]
    }
   ],
   "source": [
    "def train_neural_network(session, optimizer, keep_probability, feature_batch, label_batch):\n",
    "    \"\"\"\n",
    "    Optimize the session on a batch of images and labels\n",
    "    : session: Current TensorFlow session\n",
    "    : optimizer: TensorFlow optimizer function\n",
    "    : keep_probability: keep probability\n",
    "    : feature_batch: Batch of Numpy image data\n",
    "    : label_batch: Batch of Numpy label data\n",
    "    \"\"\"\n",
    "    # TODO: Implement Function\n",
    "    session.run(optimizer, feed_dict={x: feature_batch, y: label_batch, keep_prob: keep_probability})\n",
    "\n",
    "\n",
    "\"\"\"\n",
    "DON'T MODIFY ANYTHING IN THIS CELL THAT IS BELOW THIS LINE\n",
    "\"\"\"\n",
    "tests.test_train_nn(train_neural_network)"
   ]
  },
  {
   "cell_type": "markdown",
   "metadata": {},
   "source": [
    "### 显示数据\n",
    "\n",
    "实现函数 `print_stats` 以输出损失和验证准确率。使用全局变量 `valid_features` 和 `valid_labels` 计算验证准确率。使用保留率 `1.0` 计算损失和验证准确率（loss and validation accuracy）。\n"
   ]
  },
  {
   "cell_type": "code",
   "execution_count": 15,
   "metadata": {},
   "outputs": [],
   "source": [
    "def print_stats(session, feature_batch, label_batch, cost, accuracy):\n",
    "    \"\"\"\n",
    "    Print information about loss and validation accuracy\n",
    "    : session: Current TensorFlow session\n",
    "    : feature_batch: Batch of Numpy image data\n",
    "    : label_batch: Batch of Numpy label data\n",
    "    : cost: TensorFlow cost function\n",
    "    : accuracy: TensorFlow accuracy function\n",
    "    \"\"\"\n",
    "    cost = session.run(cost, feed_dict= {x: feature_batch, y: label_batch, keep_prob: 1.0})\n",
    "    valiation_acu = session.run(accuracy, feed_dict= {x: valid_features, y: valid_labels, keep_prob: 1.0})\n",
    "    print('Cost = {0} - Validation Accuracy = {1}'.format(cost, valiation_acu))\n",
    "\n",
    "    # TODO: Implement Function"
   ]
  },
  {
   "cell_type": "markdown",
   "metadata": {},
   "source": [
    "### 超参数\n",
    "\n",
    "调试以下超参数：\n",
    "* 设置 `epochs` 表示神经网络停止学习或开始过拟合的迭代次数\n",
    "* 设置 `batch_size`，表示机器内存允许的部分最大体积。大部分人设为以下常见内存大小：\n",
    "\n",
    " * 64\n",
    " * 128\n",
    " * 256\n",
    " * ...\n",
    "* 设置 `keep_probability` 表示使用丢弃时保留节点的概率"
   ]
  },
  {
   "cell_type": "code",
   "execution_count": 16,
   "metadata": {},
   "outputs": [],
   "source": [
    "# TODO: Tune Parameters\n",
    "epochs = 45\n",
    "batch_size = 256\n",
    "keep_probability = 0.5"
   ]
  },
  {
   "cell_type": "markdown",
   "metadata": {},
   "source": [
    "### 在单个 CIFAR-10 部分上训练\n",
    "\n",
    "我们先用单个部分，而不是用所有的 CIFAR-10 批次训练神经网络。这样可以节省时间，并对模型进行迭代，以提高准确率。最终验证准确率达到 50% 或以上之后，在下一部分对所有数据运行模型。\n"
   ]
  },
  {
   "cell_type": "code",
   "execution_count": 17,
   "metadata": {},
   "outputs": [
    {
     "name": "stdout",
     "output_type": "stream",
     "text": [
      "Checking the Training on a Single Batch...\n",
      "Epoch  1, CIFAR-10 Batch 1:  Cost = 2.256101608276367 - Validation Accuracy = 0.20260000228881836\n",
      "Epoch  2, CIFAR-10 Batch 1:  Cost = 2.1201984882354736 - Validation Accuracy = 0.2733999788761139\n",
      "Epoch  3, CIFAR-10 Batch 1:  Cost = 2.0521509647369385 - Validation Accuracy = 0.3222000002861023\n",
      "Epoch  4, CIFAR-10 Batch 1:  Cost = 1.8765860795974731 - Validation Accuracy = 0.3726000189781189\n",
      "Epoch  5, CIFAR-10 Batch 1:  Cost = 1.7398183345794678 - Validation Accuracy = 0.40059998631477356\n",
      "Epoch  6, CIFAR-10 Batch 1:  Cost = 1.5648512840270996 - Validation Accuracy = 0.4147999882698059\n",
      "Epoch  7, CIFAR-10 Batch 1:  Cost = 1.3953784704208374 - Validation Accuracy = 0.4505999982357025\n",
      "Epoch  8, CIFAR-10 Batch 1:  Cost = 1.2579588890075684 - Validation Accuracy = 0.47199997305870056\n",
      "Epoch  9, CIFAR-10 Batch 1:  Cost = 1.136103868484497 - Validation Accuracy = 0.4745999574661255\n",
      "Epoch 10, CIFAR-10 Batch 1:  Cost = 1.0594713687896729 - Validation Accuracy = 0.4578000009059906\n",
      "Epoch 11, CIFAR-10 Batch 1:  Cost = 0.9173814058303833 - Validation Accuracy = 0.5007999539375305\n",
      "Epoch 12, CIFAR-10 Batch 1:  Cost = 0.7971789240837097 - Validation Accuracy = 0.509399950504303\n",
      "Epoch 13, CIFAR-10 Batch 1:  Cost = 0.7182650566101074 - Validation Accuracy = 0.5123999714851379\n",
      "Epoch 14, CIFAR-10 Batch 1:  Cost = 0.7112945914268494 - Validation Accuracy = 0.5087999701499939\n",
      "Epoch 15, CIFAR-10 Batch 1:  Cost = 0.6472550630569458 - Validation Accuracy = 0.535599946975708\n",
      "Epoch 16, CIFAR-10 Batch 1:  Cost = 0.5697311758995056 - Validation Accuracy = 0.5427999496459961\n",
      "Epoch 17, CIFAR-10 Batch 1:  Cost = 0.5281575322151184 - Validation Accuracy = 0.5535999536514282\n",
      "Epoch 18, CIFAR-10 Batch 1:  Cost = 0.5097061395645142 - Validation Accuracy = 0.5453999638557434\n",
      "Epoch 19, CIFAR-10 Batch 1:  Cost = 0.43812620639801025 - Validation Accuracy = 0.5531999468803406\n",
      "Epoch 20, CIFAR-10 Batch 1:  Cost = 0.3972635269165039 - Validation Accuracy = 0.5589998960494995\n",
      "Epoch 21, CIFAR-10 Batch 1:  Cost = 0.3562130331993103 - Validation Accuracy = 0.5575999021530151\n",
      "Epoch 22, CIFAR-10 Batch 1:  Cost = 0.33646130561828613 - Validation Accuracy = 0.5625998973846436\n",
      "Epoch 23, CIFAR-10 Batch 1:  Cost = 0.29404139518737793 - Validation Accuracy = 0.5625999569892883\n",
      "Epoch 24, CIFAR-10 Batch 1:  Cost = 0.2609572112560272 - Validation Accuracy = 0.561799943447113\n",
      "Epoch 25, CIFAR-10 Batch 1:  Cost = 0.22207272052764893 - Validation Accuracy = 0.5679998993873596\n",
      "Epoch 26, CIFAR-10 Batch 1:  Cost = 0.21273401379585266 - Validation Accuracy = 0.556399941444397\n",
      "Epoch 27, CIFAR-10 Batch 1:  Cost = 0.18679329752922058 - Validation Accuracy = 0.5595999360084534\n",
      "Epoch 28, CIFAR-10 Batch 1:  Cost = 0.17964628338813782 - Validation Accuracy = 0.5567998886108398\n",
      "Epoch 29, CIFAR-10 Batch 1:  Cost = 0.13638879358768463 - Validation Accuracy = 0.5525999069213867\n",
      "Epoch 30, CIFAR-10 Batch 1:  Cost = 0.13208383321762085 - Validation Accuracy = 0.5583999156951904\n",
      "Epoch 31, CIFAR-10 Batch 1:  Cost = 0.11062668263912201 - Validation Accuracy = 0.5677999258041382\n",
      "Epoch 32, CIFAR-10 Batch 1:  Cost = 0.10008729249238968 - Validation Accuracy = 0.556999921798706\n",
      "Epoch 33, CIFAR-10 Batch 1:  Cost = 0.08329188078641891 - Validation Accuracy = 0.5643999576568604\n",
      "Epoch 34, CIFAR-10 Batch 1:  Cost = 0.07775956392288208 - Validation Accuracy = 0.5693999528884888\n",
      "Epoch 35, CIFAR-10 Batch 1:  Cost = 0.06375862658023834 - Validation Accuracy = 0.5647999048233032\n",
      "Epoch 36, CIFAR-10 Batch 1:  Cost = 0.05484481900930405 - Validation Accuracy = 0.5763999223709106\n",
      "Epoch 37, CIFAR-10 Batch 1:  Cost = 0.0571579784154892 - Validation Accuracy = 0.5705999135971069\n",
      "Epoch 38, CIFAR-10 Batch 1:  Cost = 0.06808491051197052 - Validation Accuracy = 0.5621998906135559\n",
      "Epoch 39, CIFAR-10 Batch 1:  Cost = 0.03953566402196884 - Validation Accuracy = 0.5715999603271484\n",
      "Epoch 40, CIFAR-10 Batch 1:  Cost = 0.03517703711986542 - Validation Accuracy = 0.5779998898506165\n",
      "Epoch 41, CIFAR-10 Batch 1:  Cost = 0.02679724059998989 - Validation Accuracy = 0.5755999088287354\n",
      "Epoch 42, CIFAR-10 Batch 1:  Cost = 0.027124224230647087 - Validation Accuracy = 0.5727999806404114\n",
      "Epoch 43, CIFAR-10 Batch 1:  Cost = 0.023742545396089554 - Validation Accuracy = 0.5787999033927917\n",
      "Epoch 44, CIFAR-10 Batch 1:  Cost = 0.01622460037469864 - Validation Accuracy = 0.569599986076355\n",
      "Epoch 45, CIFAR-10 Batch 1:  Cost = 0.020860832184553146 - Validation Accuracy = 0.5677999258041382\n"
     ]
    }
   ],
   "source": [
    "\"\"\"\n",
    "DON'T MODIFY ANYTHING IN THIS CELL\n",
    "\"\"\"\n",
    "print('Checking the Training on a Single Batch...')\n",
    "with tf.Session() as sess:\n",
    "    # Initializing the variables\n",
    "    sess.run(tf.global_variables_initializer())\n",
    "    \n",
    "    # Training cycle\n",
    "    for epoch in range(epochs):\n",
    "        batch_i = 1\n",
    "        for batch_features, batch_labels in helper.load_preprocess_training_batch(batch_i, batch_size):\n",
    "            train_neural_network(sess, optimizer, keep_probability, batch_features, batch_labels)\n",
    "        print('Epoch {:>2}, CIFAR-10 Batch {}:  '.format(epoch + 1, batch_i), end='')\n",
    "        print_stats(sess, batch_features, batch_labels, cost, accuracy)"
   ]
  },
  {
   "cell_type": "markdown",
   "metadata": {},
   "source": [
    "### 完全训练模型\n",
    "\n",
    "现在，单个 CIFAR-10 部分的准确率已经不错了，试试所有五个部分吧。"
   ]
  },
  {
   "cell_type": "code",
   "execution_count": 19,
   "metadata": {
    "scrolled": true
   },
   "outputs": [
    {
     "name": "stdout",
     "output_type": "stream",
     "text": [
      "Training...\n",
      "Epoch  1, CIFAR-10 Batch 1:  Cost = 2.269717216491699 - Validation Accuracy = 0.20239998400211334\n",
      "Epoch  1, CIFAR-10 Batch 2:  Cost = 2.0847363471984863 - Validation Accuracy = 0.2955999970436096\n",
      "Epoch  1, CIFAR-10 Batch 3:  Cost = 1.8013216257095337 - Validation Accuracy = 0.3601999878883362\n",
      "Epoch  1, CIFAR-10 Batch 4:  Cost = 1.7078453302383423 - Validation Accuracy = 0.3863999545574188\n",
      "Epoch  1, CIFAR-10 Batch 5:  Cost = 1.636373519897461 - Validation Accuracy = 0.42559996247291565\n",
      "Epoch  2, CIFAR-10 Batch 1:  Cost = 1.7878673076629639 - Validation Accuracy = 0.446399986743927\n",
      "Epoch  2, CIFAR-10 Batch 2:  Cost = 1.4827371835708618 - Validation Accuracy = 0.47519996762275696\n",
      "Epoch  2, CIFAR-10 Batch 3:  Cost = 1.2123198509216309 - Validation Accuracy = 0.48539999127388\n",
      "Epoch  2, CIFAR-10 Batch 4:  Cost = 1.3338124752044678 - Validation Accuracy = 0.49140000343322754\n",
      "Epoch  2, CIFAR-10 Batch 5:  Cost = 1.263399600982666 - Validation Accuracy = 0.5119999647140503\n",
      "Epoch  3, CIFAR-10 Batch 1:  Cost = 1.3018202781677246 - Validation Accuracy = 0.5099999904632568\n",
      "Epoch  3, CIFAR-10 Batch 2:  Cost = 1.131388545036316 - Validation Accuracy = 0.5255999565124512\n",
      "Epoch  3, CIFAR-10 Batch 3:  Cost = 0.9925072193145752 - Validation Accuracy = 0.5375999212265015\n",
      "Epoch  3, CIFAR-10 Batch 4:  Cost = 1.1409531831741333 - Validation Accuracy = 0.5419999361038208\n",
      "Epoch  3, CIFAR-10 Batch 5:  Cost = 1.0436677932739258 - Validation Accuracy = 0.5501999855041504\n",
      "Epoch  4, CIFAR-10 Batch 1:  Cost = 1.080933690071106 - Validation Accuracy = 0.5445999503135681\n",
      "Epoch  4, CIFAR-10 Batch 2:  Cost = 0.8778634071350098 - Validation Accuracy = 0.549799919128418\n",
      "Epoch  4, CIFAR-10 Batch 3:  Cost = 0.838881254196167 - Validation Accuracy = 0.5659999251365662\n",
      "Epoch  4, CIFAR-10 Batch 4:  Cost = 0.9658015966415405 - Validation Accuracy = 0.5679999589920044\n",
      "Epoch  4, CIFAR-10 Batch 5:  Cost = 0.8632795214653015 - Validation Accuracy = 0.568199872970581\n",
      "Epoch  5, CIFAR-10 Batch 1:  Cost = 0.9805678725242615 - Validation Accuracy = 0.5749999284744263\n",
      "Epoch  5, CIFAR-10 Batch 2:  Cost = 0.7514512538909912 - Validation Accuracy = 0.5757999420166016\n",
      "Epoch  5, CIFAR-10 Batch 3:  Cost = 0.647582471370697 - Validation Accuracy = 0.5871999263763428\n",
      "Epoch  5, CIFAR-10 Batch 4:  Cost = 0.8929263353347778 - Validation Accuracy = 0.5663999319076538\n",
      "Epoch  5, CIFAR-10 Batch 5:  Cost = 0.6840498447418213 - Validation Accuracy = 0.5981999039649963\n",
      "Epoch  6, CIFAR-10 Batch 1:  Cost = 0.8392235040664673 - Validation Accuracy = 0.5969999432563782\n",
      "Epoch  6, CIFAR-10 Batch 2:  Cost = 0.6387861967086792 - Validation Accuracy = 0.5987998843193054\n",
      "Epoch  6, CIFAR-10 Batch 3:  Cost = 0.530760645866394 - Validation Accuracy = 0.6107999086380005\n",
      "Epoch  6, CIFAR-10 Batch 4:  Cost = 0.6972301006317139 - Validation Accuracy = 0.596799910068512\n",
      "Epoch  6, CIFAR-10 Batch 5:  Cost = 0.6298965215682983 - Validation Accuracy = 0.6119999289512634\n",
      "Epoch  7, CIFAR-10 Batch 1:  Cost = 0.7076579332351685 - Validation Accuracy = 0.6061998605728149\n",
      "Epoch  7, CIFAR-10 Batch 2:  Cost = 0.5514309406280518 - Validation Accuracy = 0.6187998652458191\n",
      "Epoch  7, CIFAR-10 Batch 3:  Cost = 0.43683069944381714 - Validation Accuracy = 0.6141999959945679\n",
      "Epoch  7, CIFAR-10 Batch 4:  Cost = 0.5614849328994751 - Validation Accuracy = 0.6231998801231384\n",
      "Epoch  7, CIFAR-10 Batch 5:  Cost = 0.5239560604095459 - Validation Accuracy = 0.6171998977661133\n",
      "Epoch  8, CIFAR-10 Batch 1:  Cost = 0.6689444780349731 - Validation Accuracy = 0.5971999168395996\n",
      "Epoch  8, CIFAR-10 Batch 2:  Cost = 0.5384995341300964 - Validation Accuracy = 0.6095999479293823\n",
      "Epoch  8, CIFAR-10 Batch 3:  Cost = 0.3255067467689514 - Validation Accuracy = 0.6225998997688293\n",
      "Epoch  8, CIFAR-10 Batch 4:  Cost = 0.4766269028186798 - Validation Accuracy = 0.622999906539917\n",
      "Epoch  8, CIFAR-10 Batch 5:  Cost = 0.4213346242904663 - Validation Accuracy = 0.6285998821258545\n",
      "Epoch  9, CIFAR-10 Batch 1:  Cost = 0.5537296533584595 - Validation Accuracy = 0.6287999153137207\n",
      "Epoch  9, CIFAR-10 Batch 2:  Cost = 0.4506028890609741 - Validation Accuracy = 0.6179999113082886\n",
      "Epoch  9, CIFAR-10 Batch 3:  Cost = 0.26521289348602295 - Validation Accuracy = 0.626599907875061\n",
      "Epoch  9, CIFAR-10 Batch 4:  Cost = 0.3744781017303467 - Validation Accuracy = 0.6249999403953552\n",
      "Epoch  9, CIFAR-10 Batch 5:  Cost = 0.3266313076019287 - Validation Accuracy = 0.6371999382972717\n",
      "Epoch 10, CIFAR-10 Batch 1:  Cost = 0.4853357970714569 - Validation Accuracy = 0.6281998753547668\n",
      "Epoch 10, CIFAR-10 Batch 2:  Cost = 0.36173397302627563 - Validation Accuracy = 0.6299999356269836\n",
      "Epoch 10, CIFAR-10 Batch 3:  Cost = 0.24504218995571136 - Validation Accuracy = 0.6463998556137085\n",
      "Epoch 10, CIFAR-10 Batch 4:  Cost = 0.3022558093070984 - Validation Accuracy = 0.6409998536109924\n",
      "Epoch 10, CIFAR-10 Batch 5:  Cost = 0.2925209403038025 - Validation Accuracy = 0.6469998955726624\n",
      "Epoch 11, CIFAR-10 Batch 1:  Cost = 0.4388205409049988 - Validation Accuracy = 0.6273999214172363\n",
      "Epoch 11, CIFAR-10 Batch 2:  Cost = 0.3398258090019226 - Validation Accuracy = 0.630599856376648\n",
      "Epoch 11, CIFAR-10 Batch 3:  Cost = 0.20274260640144348 - Validation Accuracy = 0.6467998623847961\n",
      "Epoch 11, CIFAR-10 Batch 4:  Cost = 0.26465630531311035 - Validation Accuracy = 0.6475999355316162\n",
      "Epoch 11, CIFAR-10 Batch 5:  Cost = 0.246535986661911 - Validation Accuracy = 0.6345999240875244\n",
      "Epoch 12, CIFAR-10 Batch 1:  Cost = 0.3840731978416443 - Validation Accuracy = 0.6327999234199524\n",
      "Epoch 12, CIFAR-10 Batch 2:  Cost = 0.26142093539237976 - Validation Accuracy = 0.6361998915672302\n",
      "Epoch 12, CIFAR-10 Batch 3:  Cost = 0.17063495516777039 - Validation Accuracy = 0.6471998691558838\n",
      "Epoch 12, CIFAR-10 Batch 4:  Cost = 0.21742159128189087 - Validation Accuracy = 0.6471998691558838\n",
      "Epoch 12, CIFAR-10 Batch 5:  Cost = 0.21788233518600464 - Validation Accuracy = 0.6579998731613159\n",
      "Epoch 13, CIFAR-10 Batch 1:  Cost = 0.3411197066307068 - Validation Accuracy = 0.6307999491691589\n",
      "Epoch 13, CIFAR-10 Batch 2:  Cost = 0.2700086832046509 - Validation Accuracy = 0.6287999153137207\n",
      "Epoch 13, CIFAR-10 Batch 3:  Cost = 0.16179460287094116 - Validation Accuracy = 0.6399998664855957\n",
      "Epoch 13, CIFAR-10 Batch 4:  Cost = 0.16658413410186768 - Validation Accuracy = 0.6561999320983887\n",
      "Epoch 13, CIFAR-10 Batch 5:  Cost = 0.17033322155475616 - Validation Accuracy = 0.6511999368667603\n",
      "Epoch 14, CIFAR-10 Batch 1:  Cost = 0.30215537548065186 - Validation Accuracy = 0.6427999138832092\n",
      "Epoch 14, CIFAR-10 Batch 2:  Cost = 0.19615094363689423 - Validation Accuracy = 0.6591999530792236\n",
      "Epoch 14, CIFAR-10 Batch 3:  Cost = 0.1359090507030487 - Validation Accuracy = 0.6463998556137085\n",
      "Epoch 14, CIFAR-10 Batch 4:  Cost = 0.14988981187343597 - Validation Accuracy = 0.6559998393058777\n",
      "Epoch 14, CIFAR-10 Batch 5:  Cost = 0.14638002216815948 - Validation Accuracy = 0.6557998657226562\n",
      "Epoch 15, CIFAR-10 Batch 1:  Cost = 0.24415385723114014 - Validation Accuracy = 0.6405999064445496\n",
      "Epoch 15, CIFAR-10 Batch 2:  Cost = 0.1611177623271942 - Validation Accuracy = 0.6515998840332031\n",
      "Epoch 15, CIFAR-10 Batch 3:  Cost = 0.1252954751253128 - Validation Accuracy = 0.6639999151229858\n",
      "Epoch 15, CIFAR-10 Batch 4:  Cost = 0.13523869216442108 - Validation Accuracy = 0.6611998677253723\n",
      "Epoch 15, CIFAR-10 Batch 5:  Cost = 0.12623651325702667 - Validation Accuracy = 0.6587998867034912\n",
      "Epoch 16, CIFAR-10 Batch 1:  Cost = 0.20909962058067322 - Validation Accuracy = 0.644399881362915\n",
      "Epoch 16, CIFAR-10 Batch 2:  Cost = 0.1757402867078781 - Validation Accuracy = 0.6635999083518982\n",
      "Epoch 16, CIFAR-10 Batch 3:  Cost = 0.12618176639080048 - Validation Accuracy = 0.6497998833656311\n",
      "Epoch 16, CIFAR-10 Batch 4:  Cost = 0.09720863401889801 - Validation Accuracy = 0.6625999212265015\n",
      "Epoch 16, CIFAR-10 Batch 5:  Cost = 0.11624836921691895 - Validation Accuracy = 0.6545999050140381\n",
      "Epoch 17, CIFAR-10 Batch 1:  Cost = 0.19520603120326996 - Validation Accuracy = 0.650999903678894\n",
      "Epoch 17, CIFAR-10 Batch 2:  Cost = 0.14641691744327545 - Validation Accuracy = 0.6499999761581421\n",
      "Epoch 17, CIFAR-10 Batch 3:  Cost = 0.09111778438091278 - Validation Accuracy = 0.6345999240875244\n",
      "Epoch 17, CIFAR-10 Batch 4:  Cost = 0.08493788540363312 - Validation Accuracy = 0.658599853515625\n"
     ]
    },
    {
     "name": "stdout",
     "output_type": "stream",
     "text": [
      "Epoch 17, CIFAR-10 Batch 5:  Cost = 0.08350926637649536 - Validation Accuracy = 0.6521998643875122\n",
      "Epoch 18, CIFAR-10 Batch 1:  Cost = 0.19466650485992432 - Validation Accuracy = 0.6549999117851257\n",
      "Epoch 18, CIFAR-10 Batch 2:  Cost = 0.14827430248260498 - Validation Accuracy = 0.655799925327301\n",
      "Epoch 18, CIFAR-10 Batch 3:  Cost = 0.06060035899281502 - Validation Accuracy = 0.6565998792648315\n",
      "Epoch 18, CIFAR-10 Batch 4:  Cost = 0.08088617771863937 - Validation Accuracy = 0.6627998352050781\n",
      "Epoch 18, CIFAR-10 Batch 5:  Cost = 0.0676833838224411 - Validation Accuracy = 0.6523998975753784\n",
      "Epoch 19, CIFAR-10 Batch 1:  Cost = 0.16635000705718994 - Validation Accuracy = 0.6579998731613159\n",
      "Epoch 19, CIFAR-10 Batch 2:  Cost = 0.10201649367809296 - Validation Accuracy = 0.6589999198913574\n",
      "Epoch 19, CIFAR-10 Batch 3:  Cost = 0.05905522033572197 - Validation Accuracy = 0.6499999165534973\n",
      "Epoch 19, CIFAR-10 Batch 4:  Cost = 0.06602936238050461 - Validation Accuracy = 0.6567999124526978\n",
      "Epoch 19, CIFAR-10 Batch 5:  Cost = 0.06683344393968582 - Validation Accuracy = 0.6603999137878418\n",
      "Epoch 20, CIFAR-10 Batch 1:  Cost = 0.15968137979507446 - Validation Accuracy = 0.6457999348640442\n",
      "Epoch 20, CIFAR-10 Batch 2:  Cost = 0.11416880786418915 - Validation Accuracy = 0.6537998914718628\n",
      "Epoch 20, CIFAR-10 Batch 3:  Cost = 0.06057967618107796 - Validation Accuracy = 0.6501998901367188\n",
      "Epoch 20, CIFAR-10 Batch 4:  Cost = 0.06462853401899338 - Validation Accuracy = 0.6631999015808105\n",
      "Epoch 20, CIFAR-10 Batch 5:  Cost = 0.058737657964229584 - Validation Accuracy = 0.6595999002456665\n",
      "Epoch 21, CIFAR-10 Batch 1:  Cost = 0.1162826418876648 - Validation Accuracy = 0.6629998683929443\n",
      "Epoch 21, CIFAR-10 Batch 2:  Cost = 0.07676001638174057 - Validation Accuracy = 0.6453999280929565\n",
      "Epoch 21, CIFAR-10 Batch 3:  Cost = 0.039227187633514404 - Validation Accuracy = 0.668799877166748\n",
      "Epoch 21, CIFAR-10 Batch 4:  Cost = 0.04665412753820419 - Validation Accuracy = 0.6597998738288879\n",
      "Epoch 21, CIFAR-10 Batch 5:  Cost = 0.041871119290590286 - Validation Accuracy = 0.6645998954772949\n",
      "Epoch 22, CIFAR-10 Batch 1:  Cost = 0.1110924482345581 - Validation Accuracy = 0.6593998670578003\n",
      "Epoch 22, CIFAR-10 Batch 2:  Cost = 0.06587476283311844 - Validation Accuracy = 0.6523998975753784\n",
      "Epoch 22, CIFAR-10 Batch 3:  Cost = 0.046363674104213715 - Validation Accuracy = 0.6605998277664185\n",
      "Epoch 22, CIFAR-10 Batch 4:  Cost = 0.04920327290892601 - Validation Accuracy = 0.6525999307632446\n",
      "Epoch 22, CIFAR-10 Batch 5:  Cost = 0.03615965321660042 - Validation Accuracy = 0.6525999307632446\n",
      "Epoch 23, CIFAR-10 Batch 1:  Cost = 0.09200024604797363 - Validation Accuracy = 0.6657998561859131\n",
      "Epoch 23, CIFAR-10 Batch 2:  Cost = 0.05451229587197304 - Validation Accuracy = 0.6605998277664185\n",
      "Epoch 23, CIFAR-10 Batch 3:  Cost = 0.035212934017181396 - Validation Accuracy = 0.6549999117851257\n",
      "Epoch 23, CIFAR-10 Batch 4:  Cost = 0.036728840321302414 - Validation Accuracy = 0.6505998373031616\n",
      "Epoch 23, CIFAR-10 Batch 5:  Cost = 0.030516574159264565 - Validation Accuracy = 0.6609998941421509\n",
      "Epoch 24, CIFAR-10 Batch 1:  Cost = 0.08392225205898285 - Validation Accuracy = 0.6441999077796936\n",
      "Epoch 24, CIFAR-10 Batch 2:  Cost = 0.054412394762039185 - Validation Accuracy = 0.6645998954772949\n",
      "Epoch 24, CIFAR-10 Batch 3:  Cost = 0.029978157952427864 - Validation Accuracy = 0.6627998948097229\n",
      "Epoch 24, CIFAR-10 Batch 4:  Cost = 0.02551971934735775 - Validation Accuracy = 0.6625998616218567\n",
      "Epoch 24, CIFAR-10 Batch 5:  Cost = 0.03560072183609009 - Validation Accuracy = 0.6527999043464661\n",
      "Epoch 25, CIFAR-10 Batch 1:  Cost = 0.07090364396572113 - Validation Accuracy = 0.6495999097824097\n",
      "Epoch 25, CIFAR-10 Batch 2:  Cost = 0.04903449863195419 - Validation Accuracy = 0.6547998785972595\n",
      "Epoch 25, CIFAR-10 Batch 3:  Cost = 0.025605836883187294 - Validation Accuracy = 0.6609998941421509\n",
      "Epoch 25, CIFAR-10 Batch 4:  Cost = 0.03519674763083458 - Validation Accuracy = 0.6577998399734497\n",
      "Epoch 25, CIFAR-10 Batch 5:  Cost = 0.018300913274288177 - Validation Accuracy = 0.6657998561859131\n",
      "Epoch 26, CIFAR-10 Batch 1:  Cost = 0.0728340893983841 - Validation Accuracy = 0.6617999076843262\n",
      "Epoch 26, CIFAR-10 Batch 2:  Cost = 0.045331910252571106 - Validation Accuracy = 0.6489999294281006\n",
      "Epoch 26, CIFAR-10 Batch 3:  Cost = 0.016603801399469376 - Validation Accuracy = 0.6571998596191406\n",
      "Epoch 26, CIFAR-10 Batch 4:  Cost = 0.026586536318063736 - Validation Accuracy = 0.6647998690605164\n",
      "Epoch 26, CIFAR-10 Batch 5:  Cost = 0.016240067780017853 - Validation Accuracy = 0.6537999510765076\n",
      "Epoch 27, CIFAR-10 Batch 1:  Cost = 0.07102233171463013 - Validation Accuracy = 0.6451998949050903\n",
      "Epoch 27, CIFAR-10 Batch 2:  Cost = 0.026904495432972908 - Validation Accuracy = 0.6625998616218567\n",
      "Epoch 27, CIFAR-10 Batch 3:  Cost = 0.018199047073721886 - Validation Accuracy = 0.6589998602867126\n",
      "Epoch 27, CIFAR-10 Batch 4:  Cost = 0.01611478067934513 - Validation Accuracy = 0.6709998846054077\n",
      "Epoch 27, CIFAR-10 Batch 5:  Cost = 0.014632205478847027 - Validation Accuracy = 0.6575998663902283\n",
      "Epoch 28, CIFAR-10 Batch 1:  Cost = 0.05064946785569191 - Validation Accuracy = 0.6653999090194702\n",
      "Epoch 28, CIFAR-10 Batch 2:  Cost = 0.02355959825217724 - Validation Accuracy = 0.6581999063491821\n",
      "Epoch 28, CIFAR-10 Batch 3:  Cost = 0.019028760492801666 - Validation Accuracy = 0.6639999151229858\n",
      "Epoch 28, CIFAR-10 Batch 4:  Cost = 0.014176342636346817 - Validation Accuracy = 0.6611998677253723\n",
      "Epoch 28, CIFAR-10 Batch 5:  Cost = 0.013103323057293892 - Validation Accuracy = 0.6645998954772949\n",
      "Epoch 29, CIFAR-10 Batch 1:  Cost = 0.05191195011138916 - Validation Accuracy = 0.6589998006820679\n",
      "Epoch 29, CIFAR-10 Batch 2:  Cost = 0.026294326409697533 - Validation Accuracy = 0.6607998609542847\n",
      "Epoch 29, CIFAR-10 Batch 3:  Cost = 0.013988976366817951 - Validation Accuracy = 0.6635998487472534\n",
      "Epoch 29, CIFAR-10 Batch 4:  Cost = 0.01294197142124176 - Validation Accuracy = 0.6663998961448669\n",
      "Epoch 29, CIFAR-10 Batch 5:  Cost = 0.010460695251822472 - Validation Accuracy = 0.6673999428749084\n",
      "Epoch 30, CIFAR-10 Batch 1:  Cost = 0.04190952330827713 - Validation Accuracy = 0.6557998657226562\n",
      "Epoch 30, CIFAR-10 Batch 2:  Cost = 0.02046407200396061 - Validation Accuracy = 0.6643998622894287\n",
      "Epoch 30, CIFAR-10 Batch 3:  Cost = 0.010843525640666485 - Validation Accuracy = 0.6673998832702637\n",
      "Epoch 30, CIFAR-10 Batch 4:  Cost = 0.011771821416914463 - Validation Accuracy = 0.6673998832702637\n",
      "Epoch 30, CIFAR-10 Batch 5:  Cost = 0.013604696840047836 - Validation Accuracy = 0.6617999076843262\n",
      "Epoch 31, CIFAR-10 Batch 1:  Cost = 0.03595953807234764 - Validation Accuracy = 0.6567999124526978\n",
      "Epoch 31, CIFAR-10 Batch 2:  Cost = 0.016182322055101395 - Validation Accuracy = 0.6649999022483826\n",
      "Epoch 31, CIFAR-10 Batch 3:  Cost = 0.006987370550632477 - Validation Accuracy = 0.6699999570846558\n",
      "Epoch 31, CIFAR-10 Batch 4:  Cost = 0.00884520635008812 - Validation Accuracy = 0.6715999245643616\n",
      "Epoch 31, CIFAR-10 Batch 5:  Cost = 0.007091178558766842 - Validation Accuracy = 0.6719998717308044\n",
      "Epoch 32, CIFAR-10 Batch 1:  Cost = 0.03639815002679825 - Validation Accuracy = 0.6639999151229858\n",
      "Epoch 32, CIFAR-10 Batch 2:  Cost = 0.021349696442484856 - Validation Accuracy = 0.6689999103546143\n",
      "Epoch 32, CIFAR-10 Batch 3:  Cost = 0.008661200292408466 - Validation Accuracy = 0.6683998703956604\n",
      "Epoch 32, CIFAR-10 Batch 4:  Cost = 0.010843612253665924 - Validation Accuracy = 0.6679998636245728\n",
      "Epoch 32, CIFAR-10 Batch 5:  Cost = 0.0069397869519889355 - Validation Accuracy = 0.6705998182296753\n",
      "Epoch 33, CIFAR-10 Batch 1:  Cost = 0.02338964119553566 - Validation Accuracy = 0.6597998738288879\n",
      "Epoch 33, CIFAR-10 Batch 2:  Cost = 0.015384444035589695 - Validation Accuracy = 0.6643999218940735\n",
      "Epoch 33, CIFAR-10 Batch 3:  Cost = 0.0063545010052621365 - Validation Accuracy = 0.6695998907089233\n",
      "Epoch 33, CIFAR-10 Batch 4:  Cost = 0.011005735024809837 - Validation Accuracy = 0.6593999266624451\n",
      "Epoch 33, CIFAR-10 Batch 5:  Cost = 0.0079102274030447 - Validation Accuracy = 0.6643999218940735\n",
      "Epoch 34, CIFAR-10 Batch 1:  Cost = 0.023387663066387177 - Validation Accuracy = 0.6505998373031616\n",
      "Epoch 34, CIFAR-10 Batch 2:  Cost = 0.011515852995216846 - Validation Accuracy = 0.6639999747276306\n"
     ]
    },
    {
     "name": "stdout",
     "output_type": "stream",
     "text": [
      "Epoch 34, CIFAR-10 Batch 3:  Cost = 0.004118101671338081 - Validation Accuracy = 0.669999897480011\n",
      "Epoch 34, CIFAR-10 Batch 4:  Cost = 0.0075163813307881355 - Validation Accuracy = 0.6613999009132385\n",
      "Epoch 34, CIFAR-10 Batch 5:  Cost = 0.005453228950500488 - Validation Accuracy = 0.6727999448776245\n",
      "Epoch 35, CIFAR-10 Batch 1:  Cost = 0.021540287882089615 - Validation Accuracy = 0.64739990234375\n",
      "Epoch 35, CIFAR-10 Batch 2:  Cost = 0.010309075936675072 - Validation Accuracy = 0.6675999164581299\n",
      "Epoch 35, CIFAR-10 Batch 3:  Cost = 0.004060543607920408 - Validation Accuracy = 0.6723999381065369\n",
      "Epoch 35, CIFAR-10 Batch 4:  Cost = 0.0071092639118433 - Validation Accuracy = 0.6635998487472534\n",
      "Epoch 35, CIFAR-10 Batch 5:  Cost = 0.006319776177406311 - Validation Accuracy = 0.6737998723983765\n",
      "Epoch 36, CIFAR-10 Batch 1:  Cost = 0.019505107775330544 - Validation Accuracy = 0.6603999137878418\n",
      "Epoch 36, CIFAR-10 Batch 2:  Cost = 0.013072621077299118 - Validation Accuracy = 0.6663998961448669\n",
      "Epoch 36, CIFAR-10 Batch 3:  Cost = 0.002415050519630313 - Validation Accuracy = 0.6665998697280884\n",
      "Epoch 36, CIFAR-10 Batch 4:  Cost = 0.006025264970958233 - Validation Accuracy = 0.6511998772621155\n",
      "Epoch 36, CIFAR-10 Batch 5:  Cost = 0.005509009584784508 - Validation Accuracy = 0.6731998920440674\n",
      "Epoch 37, CIFAR-10 Batch 1:  Cost = 0.01914079673588276 - Validation Accuracy = 0.6531998515129089\n",
      "Epoch 37, CIFAR-10 Batch 2:  Cost = 0.007178005296736956 - Validation Accuracy = 0.6641998887062073\n",
      "Epoch 37, CIFAR-10 Batch 3:  Cost = 0.0038447994738817215 - Validation Accuracy = 0.6645998358726501\n",
      "Epoch 37, CIFAR-10 Batch 4:  Cost = 0.004243392962962389 - Validation Accuracy = 0.6597998738288879\n",
      "Epoch 37, CIFAR-10 Batch 5:  Cost = 0.004991983994841576 - Validation Accuracy = 0.6755998730659485\n",
      "Epoch 38, CIFAR-10 Batch 1:  Cost = 0.016529304906725883 - Validation Accuracy = 0.6577998995780945\n",
      "Epoch 38, CIFAR-10 Batch 2:  Cost = 0.006796054542064667 - Validation Accuracy = 0.6691998839378357\n",
      "Epoch 38, CIFAR-10 Batch 3:  Cost = 0.005737308878451586 - Validation Accuracy = 0.6675999164581299\n",
      "Epoch 38, CIFAR-10 Batch 4:  Cost = 0.005074104759842157 - Validation Accuracy = 0.6609998941421509\n",
      "Epoch 38, CIFAR-10 Batch 5:  Cost = 0.0031968550756573677 - Validation Accuracy = 0.6595998406410217\n",
      "Epoch 39, CIFAR-10 Batch 1:  Cost = 0.014553694054484367 - Validation Accuracy = 0.6683998703956604\n",
      "Epoch 39, CIFAR-10 Batch 2:  Cost = 0.006353070959448814 - Validation Accuracy = 0.6643998622894287\n",
      "Epoch 39, CIFAR-10 Batch 3:  Cost = 0.00394466333091259 - Validation Accuracy = 0.6583998799324036\n",
      "Epoch 39, CIFAR-10 Batch 4:  Cost = 0.003162034321576357 - Validation Accuracy = 0.6605998873710632\n",
      "Epoch 39, CIFAR-10 Batch 5:  Cost = 0.0037611224688589573 - Validation Accuracy = 0.669999897480011\n",
      "Epoch 40, CIFAR-10 Batch 1:  Cost = 0.020084906369447708 - Validation Accuracy = 0.668199896812439\n",
      "Epoch 40, CIFAR-10 Batch 2:  Cost = 0.005494527984410524 - Validation Accuracy = 0.6731999516487122\n",
      "Epoch 40, CIFAR-10 Batch 3:  Cost = 0.0019013227429240942 - Validation Accuracy = 0.6631999015808105\n",
      "Epoch 40, CIFAR-10 Batch 4:  Cost = 0.0036123734898865223 - Validation Accuracy = 0.6589999198913574\n",
      "Epoch 40, CIFAR-10 Batch 5:  Cost = 0.002835113788023591 - Validation Accuracy = 0.6657998561859131\n",
      "Epoch 41, CIFAR-10 Batch 1:  Cost = 0.016507720574736595 - Validation Accuracy = 0.6653999090194702\n",
      "Epoch 41, CIFAR-10 Batch 2:  Cost = 0.006723531987518072 - Validation Accuracy = 0.669999897480011\n",
      "Epoch 41, CIFAR-10 Batch 3:  Cost = 0.0016615043859928846 - Validation Accuracy = 0.6689998507499695\n",
      "Epoch 41, CIFAR-10 Batch 4:  Cost = 0.002626718720421195 - Validation Accuracy = 0.6587998867034912\n",
      "Epoch 41, CIFAR-10 Batch 5:  Cost = 0.0019620400853455067 - Validation Accuracy = 0.666999876499176\n",
      "Epoch 42, CIFAR-10 Batch 1:  Cost = 0.012442216277122498 - Validation Accuracy = 0.6625998616218567\n",
      "Epoch 42, CIFAR-10 Batch 2:  Cost = 0.004105104599148035 - Validation Accuracy = 0.662199854850769\n",
      "Epoch 42, CIFAR-10 Batch 3:  Cost = 0.0005691873957403004 - Validation Accuracy = 0.66159987449646\n",
      "Epoch 42, CIFAR-10 Batch 4:  Cost = 0.002168060280382633 - Validation Accuracy = 0.6725998520851135\n",
      "Epoch 42, CIFAR-10 Batch 5:  Cost = 0.0016742479056119919 - Validation Accuracy = 0.6763998866081238\n",
      "Epoch 43, CIFAR-10 Batch 1:  Cost = 0.011015312746167183 - Validation Accuracy = 0.6659998893737793\n",
      "Epoch 43, CIFAR-10 Batch 2:  Cost = 0.004772938787937164 - Validation Accuracy = 0.6691999435424805\n",
      "Epoch 43, CIFAR-10 Batch 3:  Cost = 0.0016731815412640572 - Validation Accuracy = 0.6647998690605164\n",
      "Epoch 43, CIFAR-10 Batch 4:  Cost = 0.002614316763356328 - Validation Accuracy = 0.6685998439788818\n",
      "Epoch 43, CIFAR-10 Batch 5:  Cost = 0.0019230556208640337 - Validation Accuracy = 0.6783998608589172\n",
      "Epoch 44, CIFAR-10 Batch 1:  Cost = 0.010403428226709366 - Validation Accuracy = 0.6647999286651611\n",
      "Epoch 44, CIFAR-10 Batch 2:  Cost = 0.002101693069562316 - Validation Accuracy = 0.6697998642921448\n",
      "Epoch 44, CIFAR-10 Batch 3:  Cost = 0.00099836231674999 - Validation Accuracy = 0.673599898815155\n",
      "Epoch 44, CIFAR-10 Batch 4:  Cost = 0.002161039039492607 - Validation Accuracy = 0.6719999313354492\n",
      "Epoch 44, CIFAR-10 Batch 5:  Cost = 0.0013449193211272359 - Validation Accuracy = 0.6733999252319336\n",
      "Epoch 45, CIFAR-10 Batch 1:  Cost = 0.009419518522918224 - Validation Accuracy = 0.6691998839378357\n",
      "Epoch 45, CIFAR-10 Batch 2:  Cost = 0.0028046215884387493 - Validation Accuracy = 0.6689999103546143\n",
      "Epoch 45, CIFAR-10 Batch 3:  Cost = 0.0006974661373533309 - Validation Accuracy = 0.6735998392105103\n",
      "Epoch 45, CIFAR-10 Batch 4:  Cost = 0.0022039739415049553 - Validation Accuracy = 0.6609998941421509\n",
      "Epoch 45, CIFAR-10 Batch 5:  Cost = 0.0027048378251492977 - Validation Accuracy = 0.6697999238967896\n"
     ]
    }
   ],
   "source": [
    "\"\"\"\n",
    "DON'T MODIFY ANYTHING IN THIS CELL\n",
    "\"\"\"\n",
    "save_model_path = './image_classification'\n",
    "\n",
    "print('Training...')\n",
    "with tf.Session() as sess:\n",
    "    # Initializing the variables\n",
    "    sess.run(tf.global_variables_initializer())\n",
    "    \n",
    "    # Training cycle\n",
    "    for epoch in range(epochs):\n",
    "        # Loop over all batches\n",
    "        n_batches = 5\n",
    "        for batch_i in range(1, n_batches + 1):\n",
    "            for batch_features, batch_labels in helper.load_preprocess_training_batch(batch_i, batch_size):\n",
    "                train_neural_network(sess, optimizer, keep_probability, batch_features, batch_labels)\n",
    "            print('Epoch {:>2}, CIFAR-10 Batch {}:  '.format(epoch + 1, batch_i), end='')\n",
    "            print_stats(sess, batch_features, batch_labels, cost, accuracy)\n",
    "            \n",
    "    # Save Model\n",
    "    saver = tf.train.Saver()\n",
    "    save_path = saver.save(sess, save_model_path)"
   ]
  },
  {
   "cell_type": "markdown",
   "metadata": {},
   "source": [
    "# 检查点\n",
    "\n",
    "模型已保存到本地。\n",
    "\n",
    "## 测试模型\n",
    "\n",
    "利用测试数据集测试你的模型。这将是最终的准确率。你的准确率应该高于 50%。如果没达到，请继续调整模型结构和参数。"
   ]
  },
  {
   "cell_type": "code",
   "execution_count": 20,
   "metadata": {},
   "outputs": [
    {
     "name": "stdout",
     "output_type": "stream",
     "text": [
      "Testing Accuracy: 0.66845703125\n",
      "\n"
     ]
    },
    {
     "data": {
      "image/png": "[encoded data removed]",
      "text/plain": [
       "<Figure size 432x288 with 8 Axes>"
      ]
     },
     "metadata": {
      "image/png": {
       "height": 319,
       "width": 355
      }
     },
     "output_type": "display_data"
    }
   ],
   "source": [
    "\"\"\"\n",
    "DON'T MODIFY ANYTHING IN THIS CELL\n",
    "\"\"\"\n",
    "%matplotlib inline\n",
    "%config InlineBackend.figure_format = 'retina'\n",
    "\n",
    "import tensorflow as tf\n",
    "import pickle\n",
    "import helper\n",
    "import random\n",
    "\n",
    "# Set batch size if not already set\n",
    "try:\n",
    "    if batch_size:\n",
    "        pass\n",
    "except NameError:\n",
    "    batch_size = 64\n",
    "\n",
    "save_model_path = './image_classification'\n",
    "n_samples = 4\n",
    "top_n_predictions = 3\n",
    "\n",
    "def test_model():\n",
    "    \"\"\"\n",
    "    Test the saved model against the test dataset\n",
    "    \"\"\"\n",
    "\n",
    "    test_features, test_labels = pickle.load(open('preprocess_test.p', mode='rb'))\n",
    "    loaded_graph = tf.Graph()\n",
    "\n",
    "    with tf.Session(graph=loaded_graph) as sess:\n",
    "        # Load model\n",
    "        loader = tf.train.import_meta_graph(save_model_path + '.meta')\n",
    "        loader.restore(sess, save_model_path)\n",
    "\n",
    "        # Get Tensors from loaded model\n",
    "        loaded_x = loaded_graph.get_tensor_by_name('x:0')\n",
    "        loaded_y = loaded_graph.get_tensor_by_name('y:0')\n",
    "        loaded_keep_prob = loaded_graph.get_tensor_by_name('keep_prob:0')\n",
    "        loaded_logits = loaded_graph.get_tensor_by_name('logits:0')\n",
    "        loaded_acc = loaded_graph.get_tensor_by_name('accuracy:0')\n",
    "        \n",
    "        # Get accuracy in batches for memory limitations\n",
    "        test_batch_acc_total = 0\n",
    "        test_batch_count = 0\n",
    "        \n",
    "        for test_feature_batch, test_label_batch in helper.batch_features_labels(test_features, test_labels, batch_size):\n",
    "            test_batch_acc_total += sess.run(\n",
    "                loaded_acc,\n",
    "                feed_dict={loaded_x: test_feature_batch, loaded_y: test_label_batch, loaded_keep_prob: 1.0})\n",
    "            test_batch_count += 1\n",
    "\n",
    "        print('Testing Accuracy: {}\\n'.format(test_batch_acc_total/test_batch_count))\n",
    "\n",
    "        # Print Random Samples\n",
    "        random_test_features, random_test_labels = tuple(zip(*random.sample(list(zip(test_features, test_labels)), n_samples)))\n",
    "        random_test_predictions = sess.run(\n",
    "            tf.nn.top_k(tf.nn.softmax(loaded_logits), top_n_predictions),\n",
    "            feed_dict={loaded_x: random_test_features, loaded_y: random_test_labels, loaded_keep_prob: 1.0})\n",
    "        helper.display_image_predictions(random_test_features, random_test_labels, random_test_predictions)\n",
    "\n",
    "\n",
    "test_model()"
   ]
  },
  {
   "cell_type": "markdown",
   "metadata": {},
   "source": [
    "## 为何准确率只有50-80%？\n",
    "\n",
    "你可能想问，为何准确率不能更高了？首先，对于简单的 CNN 网络来说，50% 已经不低了。纯粹猜测的准确率为10%。但是，你可能注意到有人的准确率[远远超过 80%](http://rodrigob.github.io/are_we_there_yet/build/classification_datasets_results.html#43494641522d3130)。这是因为我们还没有介绍所有的神经网络知识。我们还需要掌握一些其他技巧。\n",
    "\n",
    "## 提交项目\n",
    "\n",
    "提交项目时，确保先运行所有单元，然后再保存记事本。将 notebook 文件另存为“dlnd_image_classification.ipynb”，再在目录 \"File\" -> \"Download as\" 另存为 HTML 格式。请在提交的项目中包含 “helper.py” 和 “problem_unittests.py” 文件。\n"
   ]
  }
 ],
 "metadata": {
  "kernelspec": {
   "display_name": "Environment (conda_anaconda3)",
   "language": "python",
   "name": "conda_anaconda3"
  },
  "language_info": {
   "codemirror_mode": {
    "name": "ipython",
    "version": 3
   },
   "file_extension": ".py",
   "mimetype": "text/x-python",
   "name": "python",
   "nbconvert_exporter": "python",
   "pygments_lexer": "ipython3",
   "version": "3.6.4"
  }
 },
 "nbformat": 4,
 "nbformat_minor": 1
}
