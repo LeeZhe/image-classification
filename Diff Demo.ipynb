{
 "cells": [
  {
   "cell_type": "code",
   "execution_count": 16,
   "metadata": {},
   "outputs": [
    {
     "name": "stdout",
     "output_type": "stream",
     "text": [
      "69975\n"
     ]
    }
   ],
   "source": [
    "from xlrd import open_workbook\n",
    " \n",
    "def GetDataFromTable(file_name, sheetNum):\n",
    "  file_d = open_workbook(file_name)\n",
    "  select_sheet = file_d.sheets()[sheetNum]\n",
    "  row_list = []\n",
    "  rows_num = select_sheet.nrows\n",
    "  print(rows_num)\n",
    " \n",
    "  for row in range(rows_num):\n",
    "    first_row = select_sheet.cell(row, 0).value\n",
    "    row_list.append(first_row)\n",
    "   \n",
    "  return row_list\n",
    "sheet1tokens = GetDataFromTable('example_data.xlsx',0)"
   ]
  },
  {
   "cell_type": "code",
   "execution_count": 27,
   "metadata": {},
   "outputs": [
    {
     "name": "stdout",
     "output_type": "stream",
     "text": [
      "155346\n"
     ]
    }
   ],
   "source": [
    "sheet2tokens = GetDataFromTable('example_data.xlsx',1)"
   ]
  },
  {
   "cell_type": "code",
   "execution_count": 28,
   "metadata": {},
   "outputs": [
    {
     "data": {
      "text/plain": [
       "['HU3qUrsSWF3LKT6cPeuv',\n",
       " 'HU3qUrsSWF3LKT6cPeuv',\n",
       " 'OtdOpOfGM8uAUyjx8zLT',\n",
       " 'OtdOpOfGM8uAUyjx8zLT',\n",
       " 'GzYmoKo2Cm4RJGKvYrXs',\n",
       " 'GzYmoKo2Cm4RJGKvYrXs',\n",
       " 'PlfPuBtPvrfRBJUl8uaF',\n",
       " 'PlfPuBtPvrfRBJUl8uaF',\n",
       " '1Di8omRQdAS5HfQoaiVx',\n",
       " '1Di8omRQdAS5HfQoaiVx']"
      ]
     },
     "execution_count": 28,
     "metadata": {},
     "output_type": "execute_result"
    }
   ],
   "source": [
    "def format_name(s):\n",
    "    move = dict.fromkeys((ord(c) for c in \"\\xa0\\n\\t\"))\n",
    "    return s.translate(move)\n",
    "sheet2tokens = list(map(format_name, sheet2tokens))\n",
    "sheet2tokens[:10]"
   ]
  },
  {
   "cell_type": "code",
   "execution_count": 35,
   "metadata": {},
   "outputs": [],
   "source": [
    "sheetDiff1 = list(set(sheet1tokens).difference(set(sheet2tokens)))\n",
    "sheetDiff1.insert(0, '在表1中，不在表2中')"
   ]
  },
  {
   "cell_type": "code",
   "execution_count": 36,
   "metadata": {},
   "outputs": [
    {
     "data": {
      "text/plain": [
       "['在表1中，不在表2中',\n",
       " 'CCeMNMZxQ7i9JTicKvrY',\n",
       " 'AN0DhAsw4kDqhqqoVcGU',\n",
       " 'X3RalHpUQM9X9sBoQGPZ',\n",
       " 'Bi9rxXKpzq5S19FnSpHn',\n",
       " 'O7WQ2VDV0IpyLdn0I8wB',\n",
       " 'zGQgedIFK9MXSiELOmSW',\n",
       " 'M7W3OakRvp6NbMsupFbx']"
      ]
     },
     "execution_count": 36,
     "metadata": {},
     "output_type": "execute_result"
    }
   ],
   "source": [
    "sheetDiff1[:10]"
   ]
  },
  {
   "cell_type": "code",
   "execution_count": 45,
   "metadata": {},
   "outputs": [
    {
     "data": {
      "text/plain": [
       "['6nwfnw9UUcbPRewseLZG',\n",
       " 'zJ8JWGTCQOOqQtVTHgjP',\n",
       " 'm15307060127723',\n",
       " 'm5ZbLaPRop5stB0JW3p9',\n",
       " '38debbe7293a4dc3805acee85ee982b0',\n",
       " '0cpUJdk7d4ubLicvc2Zx',\n",
       " '237cee5fae0f435a8497bc81192a6328',\n",
       " 'nDb8BOmTLMmI0OaRJ0hs',\n",
       " '030319efc9e446ddb3cf4cebb42b030c',\n",
       " 'Kvq5IqL9rkfpOhXhTeJO',\n",
       " 'f028be36a2544475bec2b584f992c1f0',\n",
       " 'yweOs1ZlqvQiAKOh8kTi',\n",
       " '2683115cbc134e47b913a7c90a580814',\n",
       " 'APEzjSMso2EU9qDio7GV',\n",
       " 'f12c4aa1dfb34233a41b3c00c6d3f618',\n",
       " 'pZ4K9vyy12pugEV9x64a',\n",
       " 'cqjpXjsnkOArSrUVNgjU',\n",
       " '6e349fc2739f43c9ac8ec50624f5dbe8',\n",
       " '92e9fdfceda3439090f91d158e4e296c',\n",
       " 'pwyICWo8cBacH3EKb4mh',\n",
       " '0ff69b2c42b7447689fedd9a5e0e6d2b',\n",
       " 'bfe2b8c5f5ea467fa4034f43cc55856a',\n",
       " 'PiZy2jNl3yUWdeN1pYxW',\n",
       " 'aeff61273682407d89f276fd40193ae3',\n",
       " 'N4l0cNsiAYepXe3CKKBJ',\n",
       " '7lvJnHKC3R6QEDLX1tCv',\n",
       " 'za1kGmNOGXfiBh3pYO3A',\n",
       " 'Kn26eMK4jEstXaehDKdG',\n",
       " 'm15323016835183',\n",
       " 'DaFtE2ZOaZFceq0pfrc6',\n",
       " 'KQiWHk0fcGAUgiCn6hA0',\n",
       " 'GaDb0A06vq6x9amaRlfO',\n",
       " 'V2UIoEqhknXAl90xfAZW',\n",
       " 'daecMDd5RANq9V8mBxrR',\n",
       " 'm15321543731562',\n",
       " 'NqgZUreaevMGAMIv7sD7',\n",
       " '4pJ4Qg6VIpkuTxdke47A',\n",
       " 'I3rim7iEaElngB0868jC',\n",
       " '9u64gtttgN5geMjY8zCr',\n",
       " 'FmS3N55ofkn64YmsFcGE',\n",
       " 'O6gu42WdDIQdXkRIwLK0',\n",
       " 'RzMJTa83LCK9OrHTrUK7',\n",
       " 'ICQKgzpP3gvEkH4SsR00',\n",
       " 'MwK6jfYZDROzS8cBF6Bb',\n",
       " 'iW5ZACeQm5xUTt3lmuib',\n",
       " '532482e96345465b82936e97fe6672f6',\n",
       " '1ee0ad9a72454f9e932286addc840014',\n",
       " 'MKR56GMAQREGi18iChN8',\n",
       " '4orsl7jvuinD656qMFYT',\n",
       " 'Qgi20d3Rs7dUptWw8jvZ']"
      ]
     },
     "execution_count": 45,
     "metadata": {},
     "output_type": "execute_result"
    }
   ],
   "source": [
    "sheetDiff2 = list(set(sheet2tokens).difference(set(sheet1tokens)))\n",
    "sheetDiff2[:50]"
   ]
  },
  {
   "cell_type": "code",
   "execution_count": 33,
   "metadata": {},
   "outputs": [
    {
     "data": {
      "text/plain": [
       "['HU3qUrsSWF3LKT6cPeuv',\n",
       " 'HU3qUrsSWF3LKT6cPeuv',\n",
       " 'OtdOpOfGM8uAUyjx8zLT',\n",
       " 'OtdOpOfGM8uAUyjx8zLT',\n",
       " 'GzYmoKo2Cm4RJGKvYrXs',\n",
       " 'GzYmoKo2Cm4RJGKvYrXs',\n",
       " 'PlfPuBtPvrfRBJUl8uaF',\n",
       " 'PlfPuBtPvrfRBJUl8uaF',\n",
       " '1Di8omRQdAS5HfQoaiVx',\n",
       " '1Di8omRQdAS5HfQoaiVx',\n",
       " 'UGiHjNnQNSiO8DWHXk51',\n",
       " 'UGiHjNnQNSiO8DWHXk51',\n",
       " 'jlu9VplVvX2zZ5NilqQT',\n",
       " 'jlu9VplVvX2zZ5NilqQT',\n",
       " '7kRFQzMreSLtvf9ddVhD',\n",
       " '7kRFQzMreSLtvf9ddVhD',\n",
       " 'GH3MUbbxxrps84OmB6zz',\n",
       " 'GH3MUbbxxrps84OmB6zz',\n",
       " 'DRxK8o63M1cDdclai6Av',\n",
       " 'DRxK8o63M1cDdclai6Av']"
      ]
     },
     "execution_count": 33,
     "metadata": {},
     "output_type": "execute_result"
    }
   ],
   "source": [
    "sheet2tokens[:20]"
   ]
  },
  {
   "cell_type": "code",
   "execution_count": 46,
   "metadata": {},
   "outputs": [],
   "source": [
    "data = {'diff1' : sheetDiff1}\n",
    "import pandas as pd\n",
    "from pandas import Series,DataFrame\n",
    "df = DataFrame(data)\n",
    "df.to_excel('diff-res.xls')"
   ]
  },
  {
   "cell_type": "code",
   "execution_count": null,
   "metadata": {},
   "outputs": [],
   "source": []
  }
 ],
 "metadata": {
  "kernelspec": {
   "display_name": "Python 3",
   "language": "python",
   "name": "python3"
  },
  "language_info": {
   "codemirror_mode": {
    "name": "ipython",
    "version": 3
   },
   "file_extension": ".py",
   "mimetype": "text/x-python",
   "name": "python",
   "nbconvert_exporter": "python",
   "pygments_lexer": "ipython3",
   "version": "3.6.4"
  }
 },
 "nbformat": 4,
 "nbformat_minor": 2
}
